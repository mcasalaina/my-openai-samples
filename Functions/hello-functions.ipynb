{
 "cells": [
  {
   "cell_type": "markdown",
   "metadata": {},
   "source": [
    "## Setup"
   ]
  },
  {
   "cell_type": "code",
   "execution_count": 1,
   "metadata": {},
   "outputs": [],
   "source": [
    "import json\n",
    "import os\n",
    "import openai   \n",
    "\n",
    "# Load config values\n",
    "with open(r'config.json') as config_file:\n",
    "    config_details = json.load(config_file)\n",
    "    \n",
    "# Setting up the deployment name\n",
    "deployment_name = config_details['DEPLOYMENT_NAME']\n",
    "\n",
    "# This is set to `azure`\n",
    "openai.api_type = \"azure\"\n",
    "\n",
    "# The API key for your Azure OpenAI resource.\n",
    "openai.api_key = os.getenv(\"OPENAI_API_KEY\")\n",
    "\n",
    "# The base URL for your Azure OpenAI resource. e.g. \"https://<your resource name>.openai.azure.com\"\n",
    "openai.api_base = config_details['OPENAI_API_BASE']\n",
    "\n",
    "# Currently Chat Completion API have the following versions available: 2023-07-01-preview\n",
    "openai.api_version = config_details['OPENAI_API_VERSION']"
   ]
  },
  {
   "cell_type": "markdown",
   "metadata": {},
   "source": [
    "## Define the function(s)"
   ]
  },
  {
   "cell_type": "code",
   "execution_count": 27,
   "metadata": {},
   "outputs": [],
   "source": [
    "def get_cheapest_flight_price(start, destination, date, features):\n",
    "    # Your code here\n",
    "    return \"1200\"\n",
    "\n",
    "available_functions = {\n",
    "            \"get_cheapest_flight_price\": get_cheapest_flight_price,\n",
    "            #\"get_stock_market_data\": get_stock_market_data,\n",
    "            #\"calculator\": calculator,\n",
    "        } "
   ]
  },
  {
   "cell_type": "markdown",
   "metadata": {},
   "source": [
    "## Prepare user query and function details for the model"
   ]
  },
  {
   "cell_type": "code",
   "execution_count": 28,
   "metadata": {},
   "outputs": [],
   "source": [
    "messages = [\n",
    "    {\"role\": \"user\", \"content\": \"What is the cheapest non-stop flight from Seattle to London on August 25, 2023?\" }\n",
    "]\n",
    "\n",
    "functions= [  \n",
    "    {\n",
    "        \"name\": \"get_cheapest_flight_price\",\n",
    "        \"description\": \"Retrieves flight information based on the parameters provided\",\n",
    "        \"parameters\": {\n",
    "            \"type\": \"object\",\n",
    "            \"properties\": {\n",
    "                \"start\": {\n",
    "                    \"type\": \"string\",\n",
    "                    \"description\": \"The starting location (i.e. Seattle)\"\n",
    "                },\n",
    "                \"destination\": {\n",
    "                    \"type\": \"number\",\n",
    "                    \"description\": \"The destination location\"\n",
    "                },\n",
    "                 \"date\": {\n",
    "                    \"type\": \"string\",\n",
    "                    \"description\": \"The date of the flight, e.g. March 1, 2024.\"\n",
    "                },\n",
    "                \"features\": {\n",
    "                    \"type\": \"string\",\n",
    "                    \"description\": \"A comma separated list of features (i.e. cheap, non-stop, etc.)\"\n",
    "                }\n",
    "            },\n",
    "            \"required\": [\"start\"],\n",
    "            \"required\": [\"destination\"],\n",
    "            \"required\": [\"date\"],\n",
    "            \"required\": [\"features\"]\n",
    "        },\n",
    "    }\n",
    "]  "
   ]
  },
  {
   "attachments": {},
   "cell_type": "markdown",
   "metadata": {},
   "source": [
    "## Submit user message and desired function(s) definitions to the model"
   ]
  },
  {
   "cell_type": "code",
   "execution_count": 29,
   "metadata": {},
   "outputs": [],
   "source": [
    "response = openai.ChatCompletion.create(\n",
    "    deployment_id=deployment_name,\n",
    "    messages=messages,\n",
    "    functions=functions,\n",
    "    function_call=\"auto\", \n",
    ")"
   ]
  },
  {
   "cell_type": "markdown",
   "metadata": {},
   "source": [
    "## Output the recognized function call and parameters"
   ]
  },
  {
   "cell_type": "code",
   "execution_count": 30,
   "metadata": {},
   "outputs": [
    {
     "name": "stdout",
     "output_type": "stream",
     "text": [
      "{\n",
      "  \"role\": \"assistant\",\n",
      "  \"function_call\": {\n",
      "    \"name\": \"get_cheapest_flight_price\",\n",
      "    \"arguments\": \"{\\n  \\\"start\\\": \\\"Seattle\\\",\\n  \\\"destination\\\": \\\"London\\\",\\n  \\\"date\\\": \\\"August 25, 2023\\\",\\n  \\\"features\\\": \\\"non-stop,cheap\\\"\\n}\"\n",
      "  }\n",
      "}\n"
     ]
    }
   ],
   "source": [
    "print(response['choices'][0]['message'])"
   ]
  },
  {
   "cell_type": "markdown",
   "metadata": {},
   "source": [
    "## Validate the recognize function call exists"
   ]
  },
  {
   "cell_type": "code",
   "execution_count": 31,
   "metadata": {},
   "outputs": [
    {
     "name": "stdout",
     "output_type": "stream",
     "text": [
      "Function get_cheapest_flight_price exists.\n"
     ]
    }
   ],
   "source": [
    "function_name = response['choices'][0]['message'][\"function_call\"][\"name\"]\n",
    "        \n",
    "# verify function exists\n",
    "if function_name not in available_functions:\n",
    "    print (\"Function \" + function_name + \" does not exist.\")\n",
    "else:\n",
    "    print (\"Function \" + function_name + \" exists.\")"
   ]
  },
  {
   "cell_type": "markdown",
   "metadata": {},
   "source": [
    "## Call the function to fetch the information"
   ]
  },
  {
   "cell_type": "code",
   "execution_count": 33,
   "metadata": {},
   "outputs": [
    {
     "name": "stdout",
     "output_type": "stream",
     "text": [
      "Output of function call:\n",
      "1200\n",
      "\n"
     ]
    }
   ],
   "source": [
    "function_to_call = available_functions[function_name]\n",
    "function_args = json.loads(response['choices'][0]['message'][\"function_call\"][\"arguments\"])\n",
    "function_response = function_to_call(**function_args)\n",
    "        \n",
    "print(\"Output of function call:\")\n",
    "print(function_response)\n",
    "print()"
   ]
  },
  {
   "cell_type": "markdown",
   "metadata": {},
   "source": [
    "## Submit the function output to the model"
   ]
  },
  {
   "cell_type": "code",
   "execution_count": 34,
   "metadata": {},
   "outputs": [],
   "source": [
    "# adding function response to messages\n",
    "messages.append(\n",
    "    {\n",
    "        \"role\": \"function\",\n",
    "        \"name\": function_name,\n",
    "        \"content\": function_response\n",
    "    }\n",
    ")  # extend conversation with function response\n",
    "\n",
    "second_response = openai.ChatCompletion.create(\n",
    "            messages=messages,\n",
    "            deployment_id=deployment_name,\n",
    "        )  # get a new response from GPT where it can see the function response\n"
   ]
  },
  {
   "cell_type": "markdown",
   "metadata": {},
   "source": [
    "## Print the model's response to the user"
   ]
  },
  {
   "cell_type": "code",
   "execution_count": 37,
   "metadata": {},
   "outputs": [
    {
     "name": "stdout",
     "output_type": "stream",
     "text": [
      "The cheapest non-stop flight from Seattle to London on August 25, 2023, is priced at $1200.\n"
     ]
    }
   ],
   "source": [
    "print (second_response[\"choices\"][0][\"message\"][\"content\"])"
   ]
  }
 ],
 "metadata": {
  "kernelspec": {
   "display_name": "Python 3",
   "language": "python",
   "name": "python3"
  },
  "language_info": {
   "codemirror_mode": {
    "name": "ipython",
    "version": 3
   },
   "file_extension": ".py",
   "mimetype": "text/x-python",
   "name": "python",
   "nbconvert_exporter": "python",
   "pygments_lexer": "ipython3",
   "version": "3.8.10"
  },
  "orig_nbformat": 4
 },
 "nbformat": 4,
 "nbformat_minor": 2
}
